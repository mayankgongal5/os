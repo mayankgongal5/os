{
 "cells": [
  {
   "cell_type": "markdown",
   "id": "7f15e4a5-1a20-4af9-b1fc-28e82102cc1a",
   "metadata": {},
   "source": [
    "# Practrical 3"
   ]
  },
  {
   "cell_type": "code",
   "execution_count": null,
   "id": "64497b52-6f8f-4ae3-b73e-44c92bbe37ae",
   "metadata": {},
   "outputs": [],
   "source": [
    "%%file FCFS.java\n",
    "import java.util.Scanner;\n",
    "\n",
    "public class FCFS {\n",
    "    public static void avg (float[] a,int i){\n",
    "      \n",
    "       int n; float sum=0,avg;\n",
    "       for(n=0;n<i;n++){\n",
    "        sum+=a[n];\n",
    "       \n",
    "       \n",
    "       }\n",
    "       avg=sum/i;\n",
    "       System.out.println(\"Average is \"+avg);\n",
    "\n",
    "    } \n",
    "\n",
    "    public static void bubble(int i,float[] at,float[] bt) {\n",
    "\t\tfloat temp;  int n,j;\n",
    "\t\tfor(n=0;n<i;n++) {\n",
    "\t\t\tfor(j=1;j<(i-n);j++) {\n",
    "\t\t\t\tif(at[j-1]>at[j]) {\n",
    "\t\t\t\t\ttemp = at[j-1];  \n",
    "                    at[j-1] = at[j];  \n",
    "                    at[j] = temp;\n",
    "                    temp = bt[j-1];  \n",
    "                    bt[j-1] = bt[j];  \n",
    "                    bt[j] = temp;  \n",
    "\t\t\t\t}\n",
    "\t\t\t}\n",
    "\t\t}\n",
    "\t}\n",
    "\n",
    "\tpublic static void main(String[] args) {\n",
    "\t  Scanner sc = new Scanner(System.in);\n",
    "\t  int i;\n",
    "\t  \n",
    "\t  System.out.println(\"Enter number of process\");\n",
    "\t  i = sc.nextInt();\n",
    "\t  \n",
    "\t float[] bt=new float[10];\n",
    "\t float[] at=new float[10];\n",
    "\t int n;\n",
    "\t for(n=1;n<=i;n++) {\n",
    "\t\t System.out.println(\"Process no.\"+n);\n",
    "\t\t System.out.println(\"Enter Burst time\");\n",
    "\t\t bt[n-1]=sc.nextInt();\n",
    "\t\t System.out.println(\"Enter Arrival time\");\n",
    "\t\t at[n-1]=sc.nextInt();\n",
    "\t\t \n",
    "}\n",
    "\t bubble(i,at,bt);\n",
    "for(n=1;n<=i;n++) {\n",
    "\tSystem.out.println(\"Process Arrived \"+n+\" Burst time:\"+bt[n-1]+\" Arrival time:\"+at[n-1]);\n",
    "}\n",
    "float[] tat = new float[10];\n",
    "float[] wt = new float[10]; \n",
    "int sum=0;\n",
    "  for(n=0;n<i;n++) {\n",
    "\t  if(n==0){ tat[n]=bt[n]-at[n]; } \n",
    "     \n",
    " else{ tat[n]=bt[n]-at[n]+bt[n-1]+sum;   sum+=bt[n-1]; }\n",
    "\n",
    "     System.out.println(\"Turn around time of \"+(n+1)+\" is \"+tat[n]);\n",
    "  }\n",
    "  avg(tat,i);\n",
    "  for(n=0;n<i;n++){\n",
    "       if(n==0){ wt[n]=at[n];}\n",
    "\n",
    "       else{ wt[n]=tat[n]-bt[n]; }\n",
    "\n",
    "       System.out.println(\"Waiting time 0f \"+(n+1)+\" is \"+wt[n]);\n",
    "  }\n",
    "  avg(wt, i);\n",
    "  sc.close();\n",
    "  }\n",
    "}"
   ]
  },
  {
   "cell_type": "markdown",
   "id": "5f8c4ae9-2130-4a46-a649-b1d872b00c34",
   "metadata": {},
   "source": [
    "# Practical 4"
   ]
  },
  {
   "cell_type": "code",
   "execution_count": 7,
   "id": "d8b34480-da58-4f30-9e85-1925cad74994",
   "metadata": {},
   "outputs": [
    {
     "name": "stdout",
     "output_type": "stream",
     "text": [
      "Writing SJF.java\n"
     ]
    }
   ],
   "source": [
    "%%file SJF.java\n",
    "public class SJF{\n",
    "\tpublic static void Sahil(float[] a,float[] b,int i){\n",
    "\t\tfloat[] CT = new float[i];\n",
    "\t\tfloat sum=0,avg;\n",
    "\t\tfor(int roll=0;roll<i;roll++){\n",
    "\t\t\tif(roll==0){\n",
    "\t\t\t\tCT[roll]=b[roll]+a[roll];\n",
    "\t\t\t}else{\n",
    "\t\t\t\tCT[roll]=b[roll]+CT[roll-1];\n",
    "\t\t\t}\n",
    "\t}\n",
    "\tfloat[] TAT=new float[i];\n",
    "\tfloat[] WT=new float[i];\n",
    "\t    sum=0;\n",
    "    for(int roll=0;roll<i;roll++){\n",
    "\t\tTAT[roll]=CT[roll]-a[roll];\n",
    "\t\tSystem.out.println(\"Process no \"+(roll+1)+\" Turn around time is \"+TAT[roll]);\n",
    "\t\tsum+=TAT[roll];\n",
    "\t}\n",
    "\tavg=sum/i;\n",
    "\tSystem.out.println(\"Average Turn around time is \"+avg);\n",
    "\tavg=sum=0;\n",
    "\tfor(int roll=0;roll<i;roll++){\n",
    "\t\tWT[roll]=TAT[roll]-b[roll];\n",
    "\t\tSystem.out.println(\"Process no \"+(roll+1)+\" Waiting time is \"+WT[roll]);\n",
    "\t\tsum+=WT[roll];\n",
    "\t}\n",
    "\tavg=sum/i;\n",
    "\tSystem.out.println(\"Average Waiting time is \"+avg);\n",
    "}\n",
    "        public static float Shubhankar(float[] a){\n",
    "\t\tfloat i=a[0];\n",
    "\t\tfor(int roll=0;roll<a.length;roll++){\n",
    "        if(i>a[roll]){\n",
    "\t\t\ti=a[roll];\n",
    "\t\t}\n",
    "\t\t}\n",
    "\t\treturn i;\n",
    "\t}\n",
    "\tpublic static void main(String[] args){\n",
    "\t\tfloat bt[]={6,2,8,3};\n",
    "\t\tfloat at[]={2,5,1,0};\n",
    "\t\tfloat[] tbt=new float[5];\n",
    "\t\tfloat[] tat= new float[10];\n",
    "\t\tfloat[] wt=new float[10];\n",
    "\t\tint limit=4,roll=0,i=0; float pointer=999;\n",
    "\t\tfloat timer=Shubhankar(at);\n",
    "\t\tfloat micro=timer;\n",
    "\t\twhile(roll!=limit){\n",
    "\t\t\tpointer=999;\n",
    "\t\t   for(int dice=0;dice<limit;dice++){\n",
    "\t\t\tif(at[dice]<=timer&&bt[dice]>0&&pointer>bt[dice]){\n",
    "\t\t\t\tpointer=bt[dice];\n",
    "                i=dice;\n",
    "\t\t\t}\n",
    "\t\t\t\n",
    "\t\t   }\n",
    "\t\twt[roll]=at[i];\n",
    "\t\t   timer+=bt[i];\n",
    "\t\t   tat[roll]=timer;\n",
    "\t\t   bt[i]=0;\n",
    "\t\t   if(roll==0){\n",
    "\t\t\ttbt[roll]=timer-micro;\n",
    "\t\t   }else{\n",
    "\t\t\ttbt[roll]=timer-tat[roll-1];\n",
    "\t\t   }\n",
    "            roll++;\n",
    "\t\t  \n",
    "\t\t   \n",
    "\t\t}\n",
    "\t\t\n",
    "\t\t\n",
    "\t\tSystem.out.println(\"Order of process execution\\nBurst time   Arrival time \");\n",
    "\t\tfor(roll=0;roll<limit;roll++){\n",
    "\n",
    "\t\t\tSystem.out.println(tbt[roll]+\"   \"+wt[roll]);\n",
    "\t\t}\n",
    "\t\tSahil(wt,tbt,limit);\n",
    "\t\t\n",
    "\t}\n",
    "}"
   ]
  },
  {
   "cell_type": "code",
   "execution_count": 9,
   "id": "275db6ac-5949-4962-9a0d-b8b9f214226f",
   "metadata": {},
   "outputs": [],
   "source": [
    "%%bash\n",
    "javac SJF.java"
   ]
  },
  {
   "cell_type": "code",
   "execution_count": 10,
   "id": "95b6ece9-1015-4f31-86fb-8d72e748d14a",
   "metadata": {},
   "outputs": [
    {
     "name": "stdout",
     "output_type": "stream",
     "text": [
      "Order of process execution\n",
      "Burst time   Arrival time \n",
      "3.0   0.0\n",
      "6.0   2.0\n",
      "2.0   5.0\n",
      "8.0   1.0\n",
      "Process no 1 Turn around time is 3.0\n",
      "Process no 2 Turn around time is 7.0\n",
      "Process no 3 Turn around time is 6.0\n",
      "Process no 4 Turn around time is 18.0\n",
      "Average Turn around time is 8.5\n",
      "Process no 1 Waiting time is 0.0\n",
      "Process no 2 Waiting time is 1.0\n",
      "Process no 3 Waiting time is 4.0\n",
      "Process no 4 Waiting time is 10.0\n",
      "Average Waiting time is 3.75\n"
     ]
    }
   ],
   "source": [
    "%%bash\n",
    "java SJF"
   ]
  },
  {
   "cell_type": "markdown",
   "id": "501d298b-ac02-4263-a186-67876fc8926f",
   "metadata": {},
   "source": [
    "# Practical 5"
   ]
  },
  {
   "cell_type": "code",
   "execution_count": 8,
   "id": "d821ad63-2c63-488b-905d-79dd8d805970",
   "metadata": {},
   "outputs": [
    {
     "name": "stdout",
     "output_type": "stream",
     "text": [
      "Writing Roundrobin.java\n"
     ]
    }
   ],
   "source": [
    "%%file Roundrobin.java\n",
    "public class Roundrobin {\n",
    "\tpublic static void bubble(int i,int[] at,int[] bt) {\n",
    "int temp;  int n,j;\n",
    "  for(n=0;n<i;n++) {\n",
    "   for(j=1;j<(i-n);j++) {\n",
    "\tif(at[j-1]>at[j]) {\n",
    "\t  temp = at[j-1];  \n",
    "      at[j-1] = at[j];  \n",
    "      at[j] = temp;\n",
    "      temp = bt[j-1];  \n",
    "      bt[j-1] = bt[j];  \n",
    "      bt[j] = temp;  \n",
    "}}}}\n",
    "\tpublic static int avg(int[] a) {\n",
    "\t\tint sum=0;\n",
    "\t\tfor(int roll=0;roll<a.length;roll++) {\n",
    "\t\t\tsum+=a[roll];\n",
    "\t\t}\n",
    "\t\tint avg=sum/a.length;\n",
    "\t\treturn avg;\n",
    "\t}\n",
    "\tpublic static void main(String[] args) {\n",
    "\t\tint limit = 5;\n",
    "\t\tint at[]= {0,1,2,3,4};\n",
    "\t\tint bt[] = {3,5,2,5,5};\n",
    "\t\t\n",
    "\t\tint[] Ch = new int[limit];\n",
    "\t\tint timer=0;\n",
    "\t\tint count=0,chance=0;\n",
    "\t\tint TQ=2;\n",
    "\t\tboolean complete=false;\n",
    "\t\tbubble(limit,at,bt);\n",
    "\t\tint[] c= bt.clone();\n",
    "\t\t\n",
    "\t\ttimer=at[0];\n",
    "\t\t\n",
    "\t\tfor(;count!=limit;) {\n",
    "\t\t    if(bt[chance]<=TQ&&bt[chance]>0) {\n",
    "\t\t    \ttimer+=bt[chance];\n",
    "\t\t    \tbt[chance]=0;\n",
    "\t\t    \tcomplete=true;\n",
    "\t\t    }\n",
    "\t\t    if(bt[chance]>TQ) {\n",
    "\t\t    \tbt[chance]-=TQ;\n",
    "\t\t    \ttimer+=TQ;\n",
    "\t\t    }\n",
    "\t\t    if(complete==true) {\n",
    "\t\t    \tCh[chance]=timer;\n",
    "\t\t    \tcount++;\n",
    "\t\t    \tcomplete=false;\n",
    "\t\t    }\n",
    "\t\t    if(limit==chance+1) {\n",
    "\t\t    \tchance=0;\n",
    "\t\t    }else if(at[chance]>timer){\n",
    "\t\t    \tchance=0;\n",
    "\t\t    }else {\n",
    "\t\t    \tchance++;\n",
    "\t\t    }\n",
    "\t\t   \n",
    "\t\n",
    "\t\t}\n",
    "\t\tint[] tat= new int[limit];\n",
    "\t\tint[] wt = new int [limit];\n",
    "\t\tfor(int roll=0;roll<limit;roll++) {\n",
    "\t\t\t   tat[roll]=Ch[roll]-at[roll];\n",
    "\t\t\t   wt[roll]=tat[roll]-c[roll];\n",
    "\t\t   }\n",
    "\t\tSystem.out.println(\"No AT BT CH TAT WT\");\n",
    "\t\tfor(int roll=0;roll<limit;roll++) {\n",
    "\t\t\tSystem.out.println((roll+1)+\"  \"+at[roll]+\"  \"+c[roll]+\"  \"+Ch[roll]+\"  \"+tat[roll]+\"  \"+wt[roll]);\n",
    "\t\t}\n",
    "\t\tint temp = avg(tat);\n",
    "\t\tSystem.out.println(\"The Average Turnaround time is \"+temp);\n",
    "\t\ttemp = avg(wt);\n",
    "\t\tSystem.out.println(\"The Average Waiting time is \"+temp);\n",
    "\t\t\n",
    "\t}\n",
    "}\n"
   ]
  },
  {
   "cell_type": "code",
   "execution_count": 13,
   "id": "f74c5e65-0d94-49ef-88e1-15f485a353ed",
   "metadata": {},
   "outputs": [
    {
     "name": "stdout",
     "output_type": "stream",
     "text": [
      "No AT BT CH TAT WT\n",
      "1  0  3  11  11  8\n",
      "2  1  5  18  17  12\n",
      "3  2  2  6  4  2\n",
      "4  3  5  19  16  11\n",
      "5  4  5  20  16  11\n",
      "The Average Turnaround time is 12\n",
      "The Average Waiting time is 8\n"
     ]
    }
   ],
   "source": [
    "%%bash\n",
    "javac Roundrobin.java\n",
    "java Roundrobin"
   ]
  },
  {
   "cell_type": "markdown",
   "id": "8706d24a-6176-4d72-84d8-237fa1a6d26e",
   "metadata": {},
   "source": [
    "# Practical 6"
   ]
  },
  {
   "cell_type": "markdown",
   "id": "b33b6e02-1672-4d7c-a8da-d420fce1cc68",
   "metadata": {},
   "source": [
    "## Fork"
   ]
  },
  {
   "cell_type": "code",
   "execution_count": 15,
   "id": "163fb1e1-424c-4cf9-8836-f172277219f1",
   "metadata": {},
   "outputs": [
    {
     "name": "stdout",
     "output_type": "stream",
     "text": [
      "Writing Fork.c\n"
     ]
    }
   ],
   "source": [
    "%%file Fork.c\n",
    "#include <stdio.h>\n",
    "#include <sys/types.h>\n",
    "#include <unistd.h>\n",
    "int main()\n",
    "{  \n",
    "    fork();\n",
    "    fork();\n",
    "    printf(\"Hello this is Process %d\\n\",getpid());\n",
    "    return 0;\n",
    "}\n"
   ]
  },
  {
   "cell_type": "code",
   "execution_count": 16,
   "id": "9219a2b0-aed9-48e8-8819-8fdc00ae5c3f",
   "metadata": {},
   "outputs": [
    {
     "name": "stdout",
     "output_type": "stream",
     "text": [
      "Hello this is Process 18564\n",
      "Hello this is Process 18566\n",
      "Hello this is Process 18565\n",
      "Hello this is Process 18567\n"
     ]
    }
   ],
   "source": [
    "%%bash \n",
    "gcc Fork.c\n",
    "./a.out\n"
   ]
  },
  {
   "cell_type": "markdown",
   "id": "5e121276-57c4-44b1-baa6-12cb541fba7b",
   "metadata": {},
   "source": [
    "## Kill"
   ]
  },
  {
   "cell_type": "code",
   "execution_count": null,
   "id": "33d86ed9-e641-4326-b361-16c36013ba11",
   "metadata": {},
   "outputs": [],
   "source": [
    "%%file Kill.c \n",
    "#include <stdio.h>\n",
    "#include <sys/types.h>\n",
    "#include <unistd.h>\n",
    "#include <time.h>\n",
    "int main()\n",
    "{  \n",
    "    fork();\n",
    "    fork();\n",
    "    printf(\"Process %d\\n\",getpid());\n",
    "    sleep(60);\n",
    "    return 0;\n",
    "}"
   ]
  },
  {
   "cell_type": "markdown",
   "id": "b63b6dff-3ccc-4ed5-ada5-5352a9cb78b0",
   "metadata": {},
   "source": [
    "- Execution\n",
    "    * 1.Run Code\n",
    "    * 2.Open Another therminal Window \n",
    "    * 3.use \"ps -ef\" command to see all the list of process find your process\n",
    "    * 4.use kill command to stop a process by using PID\n",
    "    * 5.recheck list of process by using \"ps -ef\" process is killed or not"
   ]
  },
  {
   "cell_type": "markdown",
   "id": "60c5eca2-64ff-42e2-98cc-fd57981e18ac",
   "metadata": {},
   "source": [
    "# Practical 7"
   ]
  },
  {
   "cell_type": "markdown",
   "id": "2ce5888e-ec29-4fd6-8dfc-f9ce8730ece7",
   "metadata": {},
   "source": [
    "## First Fit"
   ]
  },
  {
   "cell_type": "code",
   "execution_count": 51,
   "id": "6490bcac-b70e-4a50-90fa-41786a2c06bf",
   "metadata": {},
   "outputs": [
    {
     "name": "stdout",
     "output_type": "stream",
     "text": [
      "Overwriting FirstFit.c\n"
     ]
    }
   ],
   "source": [
    "%%file FirstFit.c\n",
    "#include<stdio.h>\n",
    " int main()\n",
    "{\tint j=5;\n",
    "\t\n",
    "\tint Bs[5]={100, 200, 300, 400, 500};\n",
    "\t\n",
    "\n",
    "\tint i=5;\n",
    "\t\n",
    "\tint Ps[5]={150, 250, 350, 200, 100};\n",
    "\n",
    "\n",
    "\tint allocation[j],flag[j];\n",
    "\tfor(int roll=0;roll<j;roll++){\n",
    "\t\tallocation[roll]=-1;\n",
    "\t\tflag[roll]=0;\n",
    "\t}\n",
    "\n",
    "\tfor(int roll=0;roll<i;roll++){\n",
    "\tfor(int spin=0;spin<j;spin++){\n",
    "\t\tif(flag[spin]==0&&Bs[spin]>=Ps[roll]){\n",
    "\t\t\tflag[spin]=1;\n",
    "\t\t\tallocation[spin]=roll;\n",
    "\t\t\tbreak;\n",
    "\t\t}\n",
    "\t}\n",
    "}\n",
    "    printf(\"\\nBlock no.\\tsize\\t\\tprocess no.\\t\\tsize\");\n",
    "    for(int roll=0;roll<j;roll++){\n",
    "    \tprintf(\"\\n%d\\t\\t%d\\t\\t\", roll+1, Bs[roll]);\n",
    "     if(flag[roll] == 1)\n",
    "        printf(\"%d\\t\\t\\t%d\",allocation[roll]+1,Ps[allocation[roll]]);\n",
    "\telse\n",
    "\t\tprintf(\"Not allocated\");\n",
    "    }\n",
    "\n",
    "}"
   ]
  },
  {
   "cell_type": "code",
   "execution_count": 52,
   "id": "34dcc524-ed61-4441-a867-5c9da6aa5ce0",
   "metadata": {},
   "outputs": [
    {
     "name": "stdout",
     "output_type": "stream",
     "text": [
      "\n",
      "Block no.\tsize\t\tprocess no.\t\tsize\n",
      "1\t\t100\t\t5\t\t\t100\n",
      "2\t\t200\t\t1\t\t\t150\n",
      "3\t\t300\t\t2\t\t\t250\n",
      "4\t\t400\t\t3\t\t\t350\n",
      "5\t\t500\t\t4\t\t\t200"
     ]
    }
   ],
   "source": [
    "%%bash\n",
    "gcc FirstFit.c\n",
    "./a.out"
   ]
  },
  {
   "cell_type": "markdown",
   "id": "0b23e951-3754-445f-a1c5-ac1b48f96714",
   "metadata": {},
   "source": [
    "## Best Fit"
   ]
  },
  {
   "cell_type": "code",
   "execution_count": 5,
   "id": "e236e501-5409-4f94-ab73-9076f9f1faf5",
   "metadata": {},
   "outputs": [
    {
     "name": "stdout",
     "output_type": "stream",
     "text": [
      "Overwriting Bestfit.c\n"
     ]
    }
   ],
   "source": [
    "%%file Bestfit.c\n",
    "#include<stdio.h>\n",
    " \n",
    "void main()\n",
    "{\n",
    "int fragment[20],b[20],p[20],i,j,nb,np,temp,lowest=9999;\n",
    "static int barray[20],parray[20];\n",
    "printf(\"\\n\\t\\t\\tMemory Management Scheme - Best Fit\");\n",
    "printf(\"\\nEnter the number of blocks:\");\n",
    "scanf(\"%d\",&nb);\n",
    "printf(\"Enter the number of processes:\");\n",
    "scanf(\"%d\",&np);\n",
    "printf(\"\\nEnter the size of the blocks:-\\n\");\n",
    "for(i=1;i<=nb;i++)\n",
    "    {\n",
    "printf(\"Block no.%d:\",i);\n",
    "        scanf(\"%d\",&b[i]);\n",
    "    }\n",
    "printf(\"\\nEnter the size of the processes :-\\n\");\n",
    "for(i=1;i<=np;i++)\n",
    "    {\n",
    "        printf(\"Process no.%d:\",i);\n",
    "        scanf(\"%d\",&p[i]);\n",
    "    }\n",
    "for(i=1;i<=np;i++)\n",
    "{\n",
    "for(j=1;j<=nb;j++)\n",
    "{\n",
    "if(barray[j]!=1)\n",
    "{\n",
    "temp=b[j]-p[i];\n",
    "if(temp>=0)\n",
    "if(lowest>temp)\n",
    "{\n",
    "parray[i]=j;\n",
    "lowest=temp;\n",
    "}\n",
    "}\n",
    "}\n",
    "fragment[i]=lowest;\n",
    "barray[parray[i]]=1;\n",
    "lowest=10000;\n",
    "}\n",
    "printf(\"\\nProcess_no\\tProcess_size\\tBlock_no\\tBlock_size\\tFragment\");\n",
    "for(i=1;i<=np && parray[i]!=0;i++)\n",
    "printf(\"\\n%d\\t\\t%d\\t\\t%d\\t\\t%d\\t\\t%d\",i,p[i],parray[i],b[parray[i]],fragment[i]);\n",
    "}"
   ]
  },
  {
   "cell_type": "markdown",
   "id": "33740ed4-5d44-4f6d-acf2-6b68d8622c6f",
   "metadata": {},
   "source": [
    "## Worst Fit"
   ]
  },
  {
   "cell_type": "code",
   "execution_count": 7,
   "id": "7a2453a3-8fee-493d-82dd-c368b31ea65d",
   "metadata": {},
   "outputs": [
    {
     "name": "stdout",
     "output_type": "stream",
     "text": [
      "Overwriting Worstfit.c\n"
     ]
    }
   ],
   "source": [
    "%%file Worstfit.c\n",
    "#include<stdio.h>\n",
    "#include<conio.h>\n",
    "#define max 25\n",
    "void main()\n",
    "{\n",
    "int frag[max],b[max],f[max],i,j,nb,nf,temp;\n",
    "static int bf[max],ff[max];\n",
    "clrscr();\n",
    "printf(\"\\n\\tMemory Management Scheme - First Fit\");\n",
    "printf(\"\\nEnter the number of blocks:\");\n",
    "scanf(\"%d\",&nb);\n",
    "printf(\"Enter the number of files:\");\n",
    "scanf(\"%d\",&nf);\n",
    "printf(\"\\nEnter the size of the blocks:-\\n\");\n",
    "for(i=1;i<=nb;i++)\n",
    "{\n",
    "printf(\"Block %d:\",i);\n",
    "scanf(\"%d\",&b[i]);\n",
    "}\n",
    "printf(\"Enter the size of the files :-\\n\");\n",
    "for(i=1;i<=nf;i++)\n",
    "{\n",
    "printf(\"File %d:\",i);\n",
    "scanf(\"%d\",&f[i]);\n",
    "}\n",
    "for(i=1;i<=nf;i++)\n",
    "{\n",
    "for(j=1;j<=nb;j++)\n",
    "{\n",
    "if(bf[j]!=1)\n",
    "{\n",
    "temp=b[j]-f[i];\n",
    "if(temp>=0)\n",
    "{\n",
    "ff[i]=j;\n",
    "break;\n",
    "}\n",
    "}\n",
    "}\n",
    "frag[i]=temp;\n",
    "bf[ff[i]]=1;\n",
    "}\n",
    "printf(\"\\nFile_no:\\tFile_size :\\tBlock_no:\\tBlock_size:\\tFragement\");\n",
    "for(i=1;i<=nf;i++)\n",
    "printf(\"\\n%d\\t\\t%d\\t\\t%d\\t\\t%d\\t\\t%d\",i,f[i],ff[i],b[ff[i]],frag[i]);\n",
    "getch();\n",
    "}"
   ]
  },
  {
   "cell_type": "markdown",
   "id": "458159c7-9e91-47fc-a453-16a0e745a665",
   "metadata": {},
   "source": [
    "# Practical 8"
   ]
  },
  {
   "cell_type": "markdown",
   "id": "f2a83b8f-79e1-4df2-a310-c8222e09409c",
   "metadata": {},
   "source": [
    "## FIFO"
   ]
  },
  {
   "cell_type": "code",
   "execution_count": 9,
   "id": "c5a01b9a-ac42-4bb1-b8f8-5bd44cc10edb",
   "metadata": {},
   "outputs": [
    {
     "name": "stdout",
     "output_type": "stream",
     "text": [
      "Writing FIFO.java\n"
     ]
    }
   ],
   "source": [
    "%%file FIFO.java\n",
    "import java.util.LinkedList;\n",
    "\n",
    "class FIFO {\n",
    "    public static int contains(int search, int arr[]){\n",
    "        for (int i=0; i<arr.length; i++) {\n",
    "            if (arr[i] == search)\n",
    "                return i;\n",
    "        }\n",
    "        return -1;\n",
    "    }\n",
    "    public static void main(String[] args) {\n",
    "        int referenceString[] = {7, 0, 1, 2, 0, 3, 0, 4, 2, 3, 0, 3, 2, 3};\n",
    "        int no_of_frames = 4;\n",
    "        int frames[] = new int[no_of_frames];\n",
    "\n",
    "        for(int i=0; i<no_of_frames; i++)\n",
    "            frames[i] = -1;\n",
    "        \n",
    "        int pageFault = 0;\n",
    "        LinkedList<Integer> order = new LinkedList<Integer>();\n",
    "        for(int page: referenceString){\n",
    "            int index = contains(page, frames);\n",
    "            if(index == -1){\n",
    "                pageFault++;\n",
    "                if(order.size() < no_of_frames){\n",
    "                    frames[order.size()] = page;\n",
    "                    order.add(order.size());\n",
    "                    continue;\n",
    "                }\n",
    "                int current_replace_index = order.pollFirst();\n",
    "                frames[current_replace_index] = page;\n",
    "                order.add(current_replace_index);\n",
    "            }\n",
    "        }\n",
    "\n",
    "        System.out.println(\"No of PageFault: \"+pageFault);\n",
    "        \n",
    "\n",
    "    }\n",
    "}"
   ]
  },
  {
   "cell_type": "code",
   "execution_count": 10,
   "id": "069d240f-eab0-4f8f-8255-b7a96010b176",
   "metadata": {},
   "outputs": [
    {
     "name": "stdout",
     "output_type": "stream",
     "text": [
      "No of PageFault: 7\n"
     ]
    }
   ],
   "source": [
    "%%bash\n",
    "javac FIFO.java\n",
    "java FIFO"
   ]
  },
  {
   "cell_type": "markdown",
   "id": "054592f8-efef-4a23-b20b-b164d7122349",
   "metadata": {},
   "source": [
    "## Optimal"
   ]
  },
  {
   "cell_type": "code",
   "execution_count": 62,
   "id": "bc09220d-7498-4425-abbe-e89f5f5b0a8d",
   "metadata": {},
   "outputs": [
    {
     "name": "stdout",
     "output_type": "stream",
     "text": [
      "Writing Optimal.java\n"
     ]
    }
   ],
   "source": [
    "%%file Optimal.java\n",
    "class Optimal {\n",
    "    public static int nextOccurence(int start_idx, int search, int arr[]){\n",
    "        for (int i=start_idx; i<arr.length; i++) {\n",
    "            if (arr[i] == search)\n",
    "                return i;\n",
    "        }\n",
    "        return -1;\n",
    "    }\n",
    "    public static void main(String[] args) {\n",
    "        int referenceString[] = {7, 0, 1, 2, 0, 3, 0, 4, 2, 3, 0, 3, 2, 3};\n",
    "        int no_of_frames = 4;\n",
    "        int frames[] = new int[no_of_frames];\n",
    "\n",
    "        for(int i=0; i<no_of_frames; i++)\n",
    "            frames[i] = -1;\n",
    "        \n",
    "        int pageFault = 0;\n",
    "        \n",
    "        for(int i=0; i < referenceString.length; i++){\n",
    "            int page = referenceString[i];\n",
    "            int index = nextOccurence(0, page, frames);\n",
    "            if(index == -1){\n",
    "                pageFault++;\n",
    "                if(i<no_of_frames){\n",
    "                    frames[i] = page;\n",
    "                    continue;\n",
    "                }\n",
    "                int current_replace_index = 0;\n",
    "                int maxDistance = (int)Double.NEGATIVE_INFINITY;\n",
    "                for(int j=0; j<no_of_frames; j++){\n",
    "                    int nextOccurance = nextOccurence(i+1, frames[j], referenceString);\n",
    "                    if(nextOccurance == -1){\n",
    "                        maxDistance = (int)Double.POSITIVE_INFINITY;\n",
    "                        current_replace_index = j;\n",
    "                    }else if(nextOccurance > maxDistance){\n",
    "                        maxDistance = nextOccurance;\n",
    "                        current_replace_index = j;\n",
    "                    }\n",
    "                }\n",
    "                frames[current_replace_index] = page;\n",
    "            }\n",
    "        }\n",
    "\n",
    "        System.out.println(\"No of PageFault: \"+pageFault);\n",
    "        \n",
    "\n",
    "    }\n",
    "}"
   ]
  },
  {
   "cell_type": "code",
   "execution_count": 64,
   "id": "cf16270f-a700-42ea-beaa-7074ec3e9fe2",
   "metadata": {},
   "outputs": [
    {
     "name": "stdout",
     "output_type": "stream",
     "text": [
      "No of PageFault: 6\n"
     ]
    }
   ],
   "source": [
    "%%bash \n",
    "javac Optimal.java\n",
    "java Optimal"
   ]
  },
  {
   "cell_type": "markdown",
   "id": "69e01b64-7268-40f0-9736-34c41362c1ea",
   "metadata": {},
   "source": [
    "## LRU"
   ]
  },
  {
   "cell_type": "code",
   "execution_count": 11,
   "id": "c93109a8-2bf2-464c-9812-14313c162cdf",
   "metadata": {},
   "outputs": [
    {
     "name": "stdout",
     "output_type": "stream",
     "text": [
      "Writing LRU.java\n"
     ]
    }
   ],
   "source": [
    "%%file LRU.java\n",
    "class LRU {\n",
    "    public static int nextOccurence(int start_idx, int search, int arr[]){\n",
    "        for (int i=start_idx; i<arr.length; i++) {\n",
    "            if (arr[i] == search)\n",
    "                return i;\n",
    "        }\n",
    "        return -1;\n",
    "    }\n",
    "\n",
    "    public static int lastOccurence(int start_idx, int search, int arr[]){\n",
    "        for(int i=start_idx; i>=0; i--){\n",
    "            if(arr[i] == search)\n",
    "                return i;\n",
    "        }\n",
    "        return -1;\n",
    "    }\n",
    "    public static void main(String[] args) {\n",
    "        int referenceString[] = {7, 0, 1, 2, 0, 3, 0, 4, 2, 3, 0, 3, 2, 3 };\n",
    "        int no_of_frames = 4;\n",
    "        int frames[] = new int[no_of_frames];\n",
    "\n",
    "        for(int i=0; i<no_of_frames; i++)\n",
    "            frames[i] = -1;\n",
    "        \n",
    "        int pageFault = 0;\n",
    "        \n",
    "        for(int i=0; i < referenceString.length; i++){\n",
    "            int page = referenceString[i];\n",
    "            int index = nextOccurence(0, page, frames);\n",
    "            if(index == -1){\n",
    "                pageFault++;\n",
    "                if(i<no_of_frames){\n",
    "                    frames[i] = page;\n",
    "                    continue;\n",
    "                }\n",
    "                int current_replace_index = 0;\n",
    "                int maxDistance = (int)Double.POSITIVE_INFINITY;\n",
    "                for(int j=0; j<no_of_frames; j++){\n",
    "                    int lastOccurance = lastOccurence(i-1, frames[j], referenceString);\n",
    "                    if(lastOccurance < maxDistance){\n",
    "                        maxDistance = lastOccurance;\n",
    "                        current_replace_index = j;\n",
    "                    }\n",
    "                }\n",
    "                frames[current_replace_index] = page;\n",
    "            }\n",
    "        }\n",
    "\n",
    "        System.out.println(\"No of PageFault: \"+pageFault);\n",
    "        \n",
    "\n",
    "    }\n",
    "}"
   ]
  },
  {
   "cell_type": "code",
   "execution_count": 12,
   "id": "ebdb3cac-6aa9-4a9c-8718-dfe234f62f05",
   "metadata": {},
   "outputs": [
    {
     "name": "stdout",
     "output_type": "stream",
     "text": [
      "No of PageFault: 6\n"
     ]
    }
   ],
   "source": [
    "%%bash \n",
    "javac LRU.java\n",
    "java LRU"
   ]
  },
  {
   "cell_type": "markdown",
   "id": "30d40148-0ed1-43ea-a447-3976cb086065",
   "metadata": {},
   "source": [
    "# Practical 9"
   ]
  },
  {
   "cell_type": "markdown",
   "id": "93b6c628-7cf6-4c2d-8656-c995f2d85081",
   "metadata": {},
   "source": [
    "## SCAN"
   ]
  },
  {
   "cell_type": "code",
   "execution_count": 24,
   "id": "72a50a67-f197-44df-b34a-fdc3296ac9a9",
   "metadata": {},
   "outputs": [
    {
     "name": "stdout",
     "output_type": "stream",
     "text": [
      "Writing SCAN.java\n"
     ]
    }
   ],
   "source": [
    "%%file SCAN.java\n",
    "class SCAN {\n",
    "    public static void main(String[] args) {\n",
    "        int no_of_tracks = 200;\n",
    "        int request_queues[] = {82, 170, 43, 140, 24, 16, 190};\n",
    "        int curr_position = 50;\n",
    "\n",
    "        // For Forward Direction\n",
    "        boolean goBackword = false;\n",
    "        int lastTrackBackword = curr_position;\n",
    "        int lastTrackForward = curr_position;\n",
    "        for(int track: request_queues){\n",
    "            if(track < curr_position){\n",
    "                goBackword = true;\n",
    "                lastTrackForward = no_of_tracks - 1;\n",
    "                if(track < lastTrackBackword){\n",
    "                    lastTrackBackword=track;\n",
    "                }\n",
    "            }\n",
    "            if(!goBackword){\n",
    "                if(lastTrackForward < track)\n",
    "                    lastTrackForward = track;\n",
    "            }\n",
    "        }\n",
    "\n",
    "        int no_of_track_movement = lastTrackForward - curr_position;\n",
    "        if(goBackword)\n",
    "            no_of_track_movement += lastTrackForward - lastTrackBackword;\n",
    "\n",
    "        System.out.println(\"No of Track Movement: \"+no_of_track_movement);\n",
    "    }    \n",
    "}"
   ]
  },
  {
   "cell_type": "code",
   "execution_count": 25,
   "id": "af806d92-2f6d-4bcc-9ed5-9a563cb51f2e",
   "metadata": {},
   "outputs": [
    {
     "name": "stdout",
     "output_type": "stream",
     "text": [
      "No of Track Movement: 332\n"
     ]
    }
   ],
   "source": [
    "%%bash\n",
    "javac SCAN.java\n",
    "java SCAN"
   ]
  },
  {
   "cell_type": "markdown",
   "id": "704ba723-d6df-48b1-8088-1251ac82387b",
   "metadata": {},
   "source": [
    "## CSCAN"
   ]
  },
  {
   "cell_type": "code",
   "execution_count": 21,
   "id": "0b4e5d5c-b9bc-4295-845a-a8500f8534db",
   "metadata": {},
   "outputs": [
    {
     "name": "stdout",
     "output_type": "stream",
     "text": [
      "Writing CSCAN.java\n"
     ]
    }
   ],
   "source": [
    "%%file CSCAN.java\n",
    "class CSCAN {\n",
    "    public static void main(String[] args) {\n",
    "        int no_of_tracks = 200;\n",
    "        int request_queues[] = {82, 170, 43, 140, 24, 16, 190};\n",
    "        int curr_position = 50;\n",
    "\n",
    "        // For Forward Direction\n",
    "        boolean goBackword = false;\n",
    "        int lastTrackBackword = 0;\n",
    "        int lastTrackForward = curr_position;\n",
    "        for(int track: request_queues){\n",
    "            if(track < curr_position){\n",
    "                goBackword = true;\n",
    "                lastTrackForward = no_of_tracks - 1;\n",
    "                if(lastTrackBackword < track){\n",
    "                    lastTrackBackword=track;\n",
    "                }\n",
    "            }\n",
    "            if(!goBackword){\n",
    "                if(lastTrackForward < track)\n",
    "                    lastTrackForward = track;\n",
    "            }\n",
    "        }\n",
    "\n",
    "        int no_of_track_movement = lastTrackForward - curr_position;\n",
    "        if(goBackword)\n",
    "            no_of_track_movement += lastTrackForward + lastTrackBackword;\n",
    "        \n",
    "        System.out.println(\"No of Track Movement: \"+no_of_track_movement);\n",
    "    }    \n",
    "}\n"
   ]
  },
  {
   "cell_type": "code",
   "execution_count": 22,
   "id": "df5f1841-01bf-4ca2-a042-de70d60acdf8",
   "metadata": {},
   "outputs": [
    {
     "name": "stdout",
     "output_type": "stream",
     "text": [
      "No of Track Movement: 391\n"
     ]
    }
   ],
   "source": [
    "%%bash \n",
    "javac CSCAN.java\n",
    "java CSCAN"
   ]
  },
  {
   "cell_type": "markdown",
   "id": "14fe1568-b76a-40f2-b4a6-6c4689c5d3cc",
   "metadata": {},
   "source": [
    "# Practical 10"
   ]
  },
  {
   "cell_type": "code",
   "execution_count": 26,
   "id": "7b467610-7327-41fc-805a-e1566a00ccba",
   "metadata": {},
   "outputs": [
    {
     "name": "stdout",
     "output_type": "stream",
     "text": [
      "Writing Banker.java\n"
     ]
    }
   ],
   "source": [
    "%%file Banker.java\n",
    "import java.util.*;\n",
    "class Banker\n",
    "{\n",
    "static int P = 5;\n",
    "\n",
    "static int R = 3;\n",
    "\n",
    "static void calculateNeed(int need[][], int maxm[][],int allot[][]){\n",
    "\tSystem.out.println(\"The Need Matrix is\");\n",
    "\tfor (int i = 0 ; i < P ; i++){\n",
    "\t\tfor (int j = 0 ; j < R ; j++){\n",
    "\t\t\tneed[i][j] = maxm[i][j] - allot[i][j];\n",
    "            System.out.print(need[i][j]+\" \");\n",
    "\t}\n",
    "\tSystem.out.println();\n",
    "        }\n",
    "}\n",
    "static boolean isSafe(int processes[], int avail[], int maxm[][],int allot[][]){\n",
    "int [][]need = new int[P][R];\n",
    "calculateNeed(need, maxm, allot);\n",
    "boolean []finish = new boolean[P];\n",
    "int []safeSeq = new int[P];\n",
    "int []work = new int[R];\n",
    "for (int i = 0; i < R ; i++)\n",
    "\twork[i] = avail[i];\n",
    "int count = 0;\n",
    "      while (count < P){\n",
    "\tboolean found = false;\n",
    "for (int p = 0; p < P; p++){\n",
    "\tif (finish[p] == false){\n",
    "\t   int j;\n",
    "\tfor (j = 0; j < R; j++)\n",
    "\tif (need[p][j] > work[j])    break;\n",
    "\n",
    "if (j == R){\n",
    "      for (int k = 0 ; k < R ; k++)\n",
    "\twork[k] += allot[p][k];\n",
    "             safeSeq[count++] = p;\n",
    "\tfinish[p] = true;\n",
    "             found = true;\n",
    "\t\t}\n",
    "\t}\n",
    "}\n",
    "\n",
    "if (found == false){\n",
    "    System.out.print(\"System is not in safe state\");\n",
    "\treturn false;\n",
    "\t}\n",
    "}\n",
    "\n",
    "\t\n",
    "System.out.print(\"System is in safe state.\\nSafe\"+\" sequence is: \");\n",
    "\tfor (int i = 0; i < P ; i++)\n",
    "\t\tSystem.out.print(safeSeq[i] + \" \");\n",
    "   System.out.println();\n",
    "\treturn true;\n",
    "}\n",
    "\n",
    "public static void main(String[] args) {\n",
    "\tint processes[] = {0, 1, 2, 3, 4};\n",
    "\n",
    "\tint avail[] = {3, 3, 2};\n",
    "\n",
    "\tint maxm[][] = {{7, 5, 3},\n",
    "\t\t\t{3, 2, 2},\n",
    "\t\t\t{9, 0, 2},\n",
    "\t\t\t{2, 2, 2},\n",
    "\t\t\t{4, 3, 3}};\n",
    "\n",
    "\tint allot[][] = {{0, 1, 0},\n",
    "\t\t\t{2, 0, 0},\n",
    "\t\t\t{3, 0, 2},\n",
    "\t\t\t{2, 1, 1},\n",
    "\t\t\t{0, 0, 2}};\n",
    "\n",
    "\tisSafe(processes, avail, maxm, allot);\n",
    "      }\n",
    "}"
   ]
  },
  {
   "cell_type": "code",
   "execution_count": 27,
   "id": "f87b0335-98fc-404f-a1b2-2917fa1d8254",
   "metadata": {},
   "outputs": [
    {
     "name": "stdout",
     "output_type": "stream",
     "text": [
      "The Need Matrix is\n",
      "7 4 3 \n",
      "1 2 2 \n",
      "6 0 0 \n",
      "0 1 1 \n",
      "4 3 1 \n",
      "System is in safe state.\n",
      "Safe sequence is: 1 3 4 0 2 \n"
     ]
    }
   ],
   "source": [
    "%%bash\n",
    "javac Banker.java\n",
    "java Banker"
   ]
  },
  {
   "cell_type": "code",
   "execution_count": null,
   "id": "8c08d5e2-2379-4560-a804-5c97247cbc01",
   "metadata": {},
   "outputs": [],
   "source": []
  }
 ],
 "metadata": {
  "kernelspec": {
   "display_name": "Python 3 (ipykernel)",
   "language": "python",
   "name": "python3"
  },
  "language_info": {
   "codemirror_mode": {
    "name": "ipython",
    "version": 3
   },
   "file_extension": ".py",
   "mimetype": "text/x-python",
   "name": "python",
   "nbconvert_exporter": "python",
   "pygments_lexer": "ipython3",
   "version": "3.10.12"
  }
 },
 "nbformat": 4,
 "nbformat_minor": 5
}
